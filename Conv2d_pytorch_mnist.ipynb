{
  "nbformat": 4,
  "nbformat_minor": 0,
  "metadata": {
    "colab": {
      "provenance": []
    },
    "kernelspec": {
      "name": "python3",
      "display_name": "Python 3"
    },
    "language_info": {
      "name": "python"
    }
  },
  "cells": [
    {
      "cell_type": "markdown",
      "source": [
        "#PyTorch for Deep Learning: Zero to Mastery course\n",
        "## This is my first Pytorch coding:\n",
        "###03_pytorch_computer_vision exercise\n",
        "[see: https://github.com/mrdbourke/pytorch-deep-learning\n",
        "](https://https://github.com/mrdbourke/pytorch-deep-learning)"
      ],
      "metadata": {
        "id": "VLE-PwXy-hRz"
      }
    },
    {
      "cell_type": "markdown",
      "source": [
        "###Import Necessary Libraries"
      ],
      "metadata": {
        "id": "G_SYyjz8MiLy"
      }
    },
    {
      "cell_type": "code",
      "source": [
        "import torch, torchvision, random\n",
        "import torch.nn as nn\n",
        "from torchvision import datasets\n",
        "import matplotlib.pyplot as plt\n",
        "!pip install torchmetrics\n",
        "from torchmetrics.classification import MulticlassAccuracy\n",
        "from torchmetrics import ConfusionMatrix\n",
        "from mlxtend.plotting import plot_confusion_matrix"
      ],
      "metadata": {
        "colab": {
          "base_uri": "https://localhost:8080/"
        },
        "id": "tEpRb5Bk_Qzx",
        "outputId": "6713077e-183f-4b4c-d411-d8f8f08a5e20"
      },
      "execution_count": 2,
      "outputs": [
        {
          "output_type": "stream",
          "name": "stdout",
          "text": [
            "Collecting torchmetrics\n",
            "  Downloading torchmetrics-1.1.1-py3-none-any.whl (763 kB)\n",
            "\u001b[2K     \u001b[90m━━━━━━━━━━━━━━━━━━━━━━━━━━━━━━━━━━━━━━\u001b[0m \u001b[32m763.4/763.4 kB\u001b[0m \u001b[31m10.3 MB/s\u001b[0m eta \u001b[36m0:00:00\u001b[0m\n",
            "\u001b[?25hRequirement already satisfied: numpy>1.20.0 in /usr/local/lib/python3.10/dist-packages (from torchmetrics) (1.23.5)\n",
            "Requirement already satisfied: torch>=1.8.1 in /usr/local/lib/python3.10/dist-packages (from torchmetrics) (2.0.1+cu118)\n",
            "Collecting lightning-utilities>=0.8.0 (from torchmetrics)\n",
            "  Downloading lightning_utilities-0.9.0-py3-none-any.whl (23 kB)\n",
            "Requirement already satisfied: packaging>=17.1 in /usr/local/lib/python3.10/dist-packages (from lightning-utilities>=0.8.0->torchmetrics) (23.1)\n",
            "Requirement already satisfied: typing-extensions in /usr/local/lib/python3.10/dist-packages (from lightning-utilities>=0.8.0->torchmetrics) (4.7.1)\n",
            "Requirement already satisfied: filelock in /usr/local/lib/python3.10/dist-packages (from torch>=1.8.1->torchmetrics) (3.12.3)\n",
            "Requirement already satisfied: sympy in /usr/local/lib/python3.10/dist-packages (from torch>=1.8.1->torchmetrics) (1.12)\n",
            "Requirement already satisfied: networkx in /usr/local/lib/python3.10/dist-packages (from torch>=1.8.1->torchmetrics) (3.1)\n",
            "Requirement already satisfied: jinja2 in /usr/local/lib/python3.10/dist-packages (from torch>=1.8.1->torchmetrics) (3.1.2)\n",
            "Requirement already satisfied: triton==2.0.0 in /usr/local/lib/python3.10/dist-packages (from torch>=1.8.1->torchmetrics) (2.0.0)\n",
            "Requirement already satisfied: cmake in /usr/local/lib/python3.10/dist-packages (from triton==2.0.0->torch>=1.8.1->torchmetrics) (3.27.2)\n",
            "Requirement already satisfied: lit in /usr/local/lib/python3.10/dist-packages (from triton==2.0.0->torch>=1.8.1->torchmetrics) (16.0.6)\n",
            "Requirement already satisfied: MarkupSafe>=2.0 in /usr/local/lib/python3.10/dist-packages (from jinja2->torch>=1.8.1->torchmetrics) (2.1.3)\n",
            "Requirement already satisfied: mpmath>=0.19 in /usr/local/lib/python3.10/dist-packages (from sympy->torch>=1.8.1->torchmetrics) (1.3.0)\n",
            "Installing collected packages: lightning-utilities, torchmetrics\n",
            "Successfully installed lightning-utilities-0.9.0 torchmetrics-1.1.1\n"
          ]
        }
      ]
    },
    {
      "cell_type": "markdown",
      "source": [
        "###Agnostic Device"
      ],
      "metadata": {
        "id": "T8_Y8GxbNNOd"
      }
    },
    {
      "cell_type": "code",
      "source": [
        "device = \"cuda\" if torch.cuda.is_available() else \"cpu\""
      ],
      "metadata": {
        "id": "sCvOJPaWNROA"
      },
      "execution_count": 10,
      "outputs": []
    },
    {
      "cell_type": "markdown",
      "source": [
        "###Loading the data\n",
        "MNIST"
      ],
      "metadata": {
        "id": "BztfsmdjGq8h"
      }
    },
    {
      "cell_type": "code",
      "source": [
        "traindata = datasets.MNIST(\n",
        "    root=\"data\",\n",
        "    train=True,\n",
        "    download=True,\n",
        "    transform=torchvision.transforms.ToTensor())\n",
        "testdata = datasets.MNIST(\n",
        "    root=\"data\",\n",
        "    train=False,\n",
        "    download=True,\n",
        "    transform=torchvision.transforms.ToTensor())"
      ],
      "metadata": {
        "colab": {
          "base_uri": "https://localhost:8080/"
        },
        "id": "1fT1H4BAJehz",
        "outputId": "24767e96-239b-4212-a95a-1ebdb0b1e0e2"
      },
      "execution_count": 3,
      "outputs": [
        {
          "output_type": "stream",
          "name": "stdout",
          "text": [
            "Downloading http://yann.lecun.com/exdb/mnist/train-images-idx3-ubyte.gz\n",
            "Downloading http://yann.lecun.com/exdb/mnist/train-images-idx3-ubyte.gz to data/MNIST/raw/train-images-idx3-ubyte.gz\n"
          ]
        },
        {
          "output_type": "stream",
          "name": "stderr",
          "text": [
            "100%|██████████| 9912422/9912422 [00:00<00:00, 169952055.51it/s]"
          ]
        },
        {
          "output_type": "stream",
          "name": "stdout",
          "text": [
            "Extracting data/MNIST/raw/train-images-idx3-ubyte.gz to data/MNIST/raw\n"
          ]
        },
        {
          "output_type": "stream",
          "name": "stderr",
          "text": [
            "\n"
          ]
        },
        {
          "output_type": "stream",
          "name": "stdout",
          "text": [
            "\n",
            "Downloading http://yann.lecun.com/exdb/mnist/train-labels-idx1-ubyte.gz\n",
            "Downloading http://yann.lecun.com/exdb/mnist/train-labels-idx1-ubyte.gz to data/MNIST/raw/train-labels-idx1-ubyte.gz\n"
          ]
        },
        {
          "output_type": "stream",
          "name": "stderr",
          "text": [
            "100%|██████████| 28881/28881 [00:00<00:00, 96908555.06it/s]\n"
          ]
        },
        {
          "output_type": "stream",
          "name": "stdout",
          "text": [
            "Extracting data/MNIST/raw/train-labels-idx1-ubyte.gz to data/MNIST/raw\n",
            "\n",
            "Downloading http://yann.lecun.com/exdb/mnist/t10k-images-idx3-ubyte.gz\n",
            "Downloading http://yann.lecun.com/exdb/mnist/t10k-images-idx3-ubyte.gz to data/MNIST/raw/t10k-images-idx3-ubyte.gz\n"
          ]
        },
        {
          "output_type": "stream",
          "name": "stderr",
          "text": [
            "100%|██████████| 1648877/1648877 [00:00<00:00, 174002198.88it/s]"
          ]
        },
        {
          "output_type": "stream",
          "name": "stdout",
          "text": [
            "Extracting data/MNIST/raw/t10k-images-idx3-ubyte.gz to data/MNIST/raw\n",
            "\n",
            "Downloading http://yann.lecun.com/exdb/mnist/t10k-labels-idx1-ubyte.gz\n",
            "Downloading http://yann.lecun.com/exdb/mnist/t10k-labels-idx1-ubyte.gz to data/MNIST/raw/t10k-labels-idx1-ubyte.gz\n"
          ]
        },
        {
          "output_type": "stream",
          "name": "stderr",
          "text": [
            "\n",
            "100%|██████████| 4542/4542 [00:00<00:00, 12011682.70it/s]\n"
          ]
        },
        {
          "output_type": "stream",
          "name": "stdout",
          "text": [
            "Extracting data/MNIST/raw/t10k-labels-idx1-ubyte.gz to data/MNIST/raw\n",
            "\n"
          ]
        }
      ]
    },
    {
      "cell_type": "markdown",
      "source": [
        "###Visualizing Samples"
      ],
      "metadata": {
        "id": "OQRG0BwVJyAe"
      }
    },
    {
      "cell_type": "code",
      "source": [
        "for i in range(6):\n",
        "\n",
        "  image, label = traindata[i]\n",
        "  plt.subplot(2,3,1+i)\n",
        "  plt.imshow(image.squeeze(),cmap=\"gray\")\n",
        "  plt.title(label);"
      ],
      "metadata": {
        "colab": {
          "base_uri": "https://localhost:8080/",
          "height": 430
        },
        "id": "ljxim4zTKS7v",
        "outputId": "dbf379b1-806a-4c98-d49a-5a342f87abc0"
      },
      "execution_count": 5,
      "outputs": [
        {
          "output_type": "display_data",
          "data": {
            "text/plain": [
              "<Figure size 640x480 with 6 Axes>"
            ],
            "image/png": "[encoded data removed]"
          },
          "metadata": {}
        }
      ]
    },
    {
      "cell_type": "markdown",
      "source": [
        "###Using Data Loader From Pytorch"
      ],
      "metadata": {
        "id": "B55bt7WuKTh6"
      }
    },
    {
      "cell_type": "code",
      "source": [
        "train_data=torch.utils.data.DataLoader(traindata,batch_size=32, shuffle=True)\n",
        "test_data=torch.utils.data.DataLoader(testdata, batch_size=32,shuffle=False)"
      ],
      "metadata": {
        "id": "JfD4U4ZtL3Ni"
      },
      "execution_count": 6,
      "outputs": []
    },
    {
      "cell_type": "markdown",
      "source": [
        "###Recreating Tiny VGG CNN Model\n",
        "[https://poloclub.github.io/cnn-explainer/](https://https://poloclub.github.io/cnn-explainer/)"
      ],
      "metadata": {
        "id": "WpxmCy2kL6VM"
      }
    },
    {
      "cell_type": "code",
      "source": [
        "class tinyvgg(nn.Module):\n",
        "  def __init__(self):\n",
        "    super().__init__()\n",
        "    self.layer1=nn.Sequential(\n",
        "        nn.Conv2d(\n",
        "                  in_channels=1,\n",
        "                  out_channels=8,\n",
        "                  kernel_size=3,\n",
        "                  stride=1,\n",
        "                  padding=1),\n",
        "        nn.ReLU(),\n",
        "        nn.Conv2d(\n",
        "                  in_channels=8,\n",
        "                  out_channels=8,\n",
        "                  kernel_size=3,\n",
        "                  stride=1,\n",
        "                  padding=1),\n",
        "        nn.ReLU(),\n",
        "        nn.MaxPool2d(kernel_size=2))\n",
        "\n",
        "    self.layer2=nn.Sequential(\n",
        "        nn.Conv2d(\n",
        "                  in_channels=8,\n",
        "                  out_channels=8,\n",
        "                  kernel_size=3,\n",
        "                  stride=1,\n",
        "                  padding=1),\n",
        "        nn.ReLU(),\n",
        "        nn.Conv2d(\n",
        "                  in_channels=8,\n",
        "                  out_channels=8,\n",
        "                  kernel_size=3,\n",
        "                  stride=1,\n",
        "                  padding=1),\n",
        "        nn.ReLU(),\n",
        "        nn.MaxPool2d(kernel_size=2))\n",
        "\n",
        "    self.classifier=nn.Sequential(\n",
        "        nn.Flatten(),\n",
        "        nn.Linear(in_features=2*14*14,\n",
        "                  out_features=10))\n",
        "\n",
        "\n",
        "  def forward(self,x):\n",
        "    x=self.layer1(x)\n",
        "    x=self.layer2(x)\n",
        "\n",
        "    x=self.classifier(x)\n",
        "\n",
        "    return x\n",
        "\n"
      ],
      "metadata": {
        "id": "Ld_MRFywMKHv"
      },
      "execution_count": 7,
      "outputs": []
    },
    {
      "cell_type": "markdown",
      "source": [
        "### Setting Up Loss Function, Optimizer And Accuracy"
      ],
      "metadata": {
        "id": "e39TFivUMM2m"
      }
    },
    {
      "cell_type": "code",
      "source": [
        "model=tinyvgg().to(device)\n",
        "loss_fn=torch.nn.CrossEntropyLoss()\n",
        "optimizer=torch.optim.SGD(params=model.parameters(),lr=0.1)\n",
        "accuracy= MulticlassAccuracy(num_classes=10).to(device)"
      ],
      "metadata": {
        "id": "BcR70tMUMcd8"
      },
      "execution_count": 16,
      "outputs": []
    },
    {
      "cell_type": "markdown",
      "source": [
        "###Train The Model"
      ],
      "metadata": {
        "id": "W1gBwCjyMpF8"
      }
    },
    {
      "cell_type": "code",
      "source": [
        "epochs=3\n",
        "train_acc=0\n",
        "train_loss=0\n",
        "test_loss=0\n",
        "test_acc=0\n",
        "for epoch in range(epochs):\n",
        "  for batch, (train_features, train_labels) in enumerate(train_data):\n",
        "    train_features, train_labels = train_features.to(device), train_labels.to(device)\n",
        "    model.train()\n",
        "    pred=model(train_features)\n",
        "    loss=loss_fn(pred,train_labels)\n",
        "    train_loss+=loss\n",
        "    train_acc+=accuracy(pred.argmax(dim=1),train_labels)\n",
        "    optimizer.zero_grad()\n",
        "    loss.backward()\n",
        "    optimizer.step()\n",
        "\n",
        "  model.eval()\n",
        "  with torch.inference_mode():\n",
        "    for batch, (train_features, train_labels) in enumerate(train_data):\n",
        "      train_features, train_labels = train_features.to(device), train_labels.to(device)\n",
        "      test_pred=model(train_features)\n",
        "      test_loss+=loss_fn(test_pred,train_labels)\n",
        "      test_acc+=accuracy(test_pred.argmax(dim=1),train_labels)\n",
        "\n",
        "\n",
        "    train_acc/=len(train_data)\n",
        "    train_loss/=len(train_data)\n",
        "    test_acc/=len(train_data)\n",
        "    test_loss/=len(train_data)\n",
        "  print(f\"Epoch:{epoch} | Train Accuracy: {train_acc} | Train Loss: {train_loss} | Test Accuracy: {test_acc} | Test Loss: {test_loss}\")\n",
        "\n"
      ],
      "metadata": {
        "colab": {
          "base_uri": "https://localhost:8080/"
        },
        "id": "j1TOpcS2MwQy",
        "outputId": "9369edbe-2e30-4a7b-e451-862e32e44376"
      },
      "execution_count": 17,
      "outputs": [
        {
          "output_type": "stream",
          "name": "stdout",
          "text": [
            "Epoch:0 | Train Accuracy: 0.8945895433425903 | Train Loss: 0.29619359970092773 | Test Accuracy: 0.9703364372253418 | Test Loss: 0.0853835791349411\n",
            "Epoch:1 | Train Accuracy: 0.972248375415802 | Train Loss: 0.08105771243572235 | Test Accuracy: 0.9785366058349609 | Test Loss: 0.06247207894921303\n",
            "Epoch:2 | Train Accuracy: 0.9791523814201355 | Train Loss: 0.0635460913181305 | Test Accuracy: 0.9795328378677368 | Test Loss: 0.05751810222864151\n"
          ]
        }
      ]
    },
    {
      "cell_type": "markdown",
      "source": [
        "###Making Predictions Using Trained Model And Visualize, Comparing The Prediciton To The Target Label."
      ],
      "metadata": {
        "id": "SOEnLjrwNrqX"
      }
    },
    {
      "cell_type": "code",
      "source": [
        "predict=[]\n",
        "label=[]\n",
        "X=[]\n",
        "model.eval()\n",
        "\n",
        "with torch.inference_mode():\n",
        "  for i , (x, y) in enumerate(testdata):\n",
        "    logits=model(torch.unsqueeze(x.to(device), dim=1))\n",
        "    predictions=torch.softmax(logits,dim=1).argmax(dim=1)\n",
        "    predict.append(predictions)\n",
        "    label.append(y)\n",
        "    X.append(x)"
      ],
      "metadata": {
        "id": "TSvTUlqeNYcH"
      },
      "execution_count": 18,
      "outputs": []
    },
    {
      "cell_type": "code",
      "source": [
        "import random\n",
        "for i in range(9):\n",
        "  b=random.randint(0,len(predict))\n",
        "  plt.subplot(3,3,i+1)\n",
        "  plt.imshow(X[b].squeeze(),cmap=\"gray\")\n",
        "  if label[b] == label[b]:\n",
        "    plt.title(label[b],c=\"g\")\n",
        "  else:\n",
        "    plt.title(predict[b],c=\"r\")\n",
        "  plt.axis(False)"
      ],
      "metadata": {
        "colab": {
          "base_uri": "https://localhost:8080/",
          "height": 428
        },
        "id": "GLIVMFkxN_oS",
        "outputId": "9de266de-feb1-4267-efb1-c1be80a22d51"
      },
      "execution_count": 19,
      "outputs": [
        {
          "output_type": "display_data",
          "data": {
            "text/plain": [
              "<Figure size 640x480 with 9 Axes>"
            ],
            "image/png": "[encoded data removed]"
          },
          "metadata": {}
        }
      ]
    },
    {
      "cell_type": "markdown",
      "source": [
        "###Plot A Confusion Matrix Comparing Model's Predictions To The Truth Labels."
      ],
      "metadata": {
        "id": "LGT45VyfOWaB"
      }
    },
    {
      "cell_type": "code",
      "source": [
        "conf=ConfusionMatrix(task=\"Multiclass\",num_classes=10)\n",
        "matrix= conf(torch.cat(predict).to(\"cpu\"), testdata.targets.to(\"cpu\"))\n",
        "plot_confusion_matrix(matrix.numpy(),10,figsize=(10, 7))"
      ],
      "metadata": {
        "colab": {
          "base_uri": "https://localhost:8080/",
          "height": 654
        },
        "id": "HVSxEI8TOUoM",
        "outputId": "8c48f97e-36a9-45c2-8e04-999f96fcee03"
      },
      "execution_count": 21,
      "outputs": [
        {
          "output_type": "execute_result",
          "data": {
            "text/plain": [
              "(<Figure size 1000x700 with 1 Axes>,\n",
              " <Axes: xlabel='predicted label', ylabel='true label'>)"
            ]
          },
          "metadata": {},
          "execution_count": 21
        },
        {
          "output_type": "display_data",
          "data": {
            "text/plain": [
              "<Figure size 1000x700 with 1 Axes>"
            ],
            "image/png": "[encoded data removed]"
          },
          "metadata": {}
        }
      ]
    }
  ]
}